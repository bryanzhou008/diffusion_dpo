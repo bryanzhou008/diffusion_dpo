{
 "cells": [
  {
   "cell_type": "markdown",
   "metadata": {},
   "source": [
    "# SFT"
   ]
  },
  {
   "cell_type": "code",
   "execution_count": 38,
   "metadata": {},
   "outputs": [
    {
     "name": "stdout",
     "output_type": "stream",
     "text": [
      "Data loaded successfully. Shape: (518, 5)\n"
     ]
    }
   ],
   "source": [
    "import pandas as pd\n",
    "import numpy as np\n",
    "\n",
    "# Hyperparameters (if any) can be defined here\n",
    "csv_path = \"/local1/bryanzhou008/Dialect/multimodal-dialectal-bias/mitigation/baselines/diffusion_dpo/a_outputs/ine-sft-basic-4-1-1-9/evaluation_results.csv\"\n",
    "\n",
    "# Load the CSV file. Extra columns (if present) will appear as unnamed columns.\n",
    "data = pd.read_csv(csv_path, engine='python')\n",
    "print(\"Data loaded successfully. Shape:\", data.shape)\n"
   ]
  },
  {
   "cell_type": "code",
   "execution_count": 39,
   "metadata": {},
   "outputs": [
    {
     "name": "stdout",
     "output_type": "stream",
     "text": [
      "Ranking for checkpoint_000 (dialect_understanding):\n",
      "             Model                              Prompt  Avg_Score\n",
      "27  checkpoint_000                    pani in the well     0.9599\n",
      "16  checkpoint_000                      a lively nagar     0.9472\n",
      "14  checkpoint_000                 a dish with brinjal     0.9295\n",
      "7   checkpoint_000                 a abandoned mandapa     0.9225\n",
      "20  checkpoint_000             a dark abandoned godown     0.9102\n",
      "15  checkpoint_000             a family enjoying khana     0.8975\n",
      "12  checkpoint_000                        a wet nullah     0.8661\n",
      "28  checkpoint_000               a yatra in the winter     0.8496\n",
      "25  checkpoint_000      a handicraftsman in a big city     0.8399\n",
      "22  checkpoint_000                 a dirty petrol bunk     0.8057\n",
      "5   checkpoint_000                   an abandoned ghat     0.7880\n",
      "32  checkpoint_000                    an green almirah     0.7492\n",
      "18  checkpoint_000                agarbatti on a shelf     0.6590\n",
      "13  checkpoint_000                an old rani on a bed     0.6435\n",
      "10  checkpoint_000          an old abba in the kitchen     0.6033\n",
      "21  checkpoint_000                a rural medical hall     0.4521\n",
      "3   checkpoint_000              a painting of a medico     0.4261\n",
      "23  checkpoint_000                  a group of mo-bike     0.4231\n",
      "30  checkpoint_000                  a tiffin at school     0.3991\n",
      "29  checkpoint_000                a naka in the winter     0.3974\n",
      "26  checkpoint_000  an incharge with a group of people     0.3459\n",
      "0   checkpoint_000             a math in a dark forest     0.3150\n",
      "8   checkpoint_000                       a nai working     0.2560\n",
      "2   checkpoint_000    a photograph of a dai with a cat     0.2400\n",
      "31  checkpoint_000             a group of people satta     0.1285\n",
      "4   checkpoint_000                        broken chick     0.1029\n",
      "11  checkpoint_000                a painting of a pial     0.0998\n",
      "24  checkpoint_000             a bundook on the ground     0.0756\n",
      "1   checkpoint_000            simkin on top of a piano     0.0713\n",
      "19  checkpoint_000                a kulang eating food     0.0692\n",
      "9   checkpoint_000      a photograph of a modern thana     0.0464\n",
      "17  checkpoint_000         an oont walking in the heat     0.0455\n",
      "6   checkpoint_000              a painting of a kirana     0.0323\n"
     ]
    }
   ],
   "source": [
    "# Specify the checkpoint and evaluation type\n",
    "checkpoint = \"checkpoint_000\"\n",
    "eval_type = \"dialect_understanding\"\n",
    "\n",
    "# Filter rows matching the parameters\n",
    "filtered_data = data[(data[\"Model\"] == checkpoint) & (data[\"Evaluation_Type\"] == eval_type)]\n",
    "\n",
    "# Rank the filtered rows by Avg_Score from highest to lowest\n",
    "sorted_data = filtered_data.sort_values(by=\"Avg_Score\", ascending=False)\n",
    "\n",
    "# Select the relevant columns, excluding 'Reference_Prompt'\n",
    "output_columns = [\"Model\", \"Prompt\", \"Avg_Score\"]\n",
    "sorted_data_output = sorted_data[output_columns]\n",
    "\n",
    "print(f\"Ranking for {checkpoint} ({eval_type}):\")\n",
    "print(sorted_data_output)\n"
   ]
  },
  {
   "cell_type": "code",
   "execution_count": 40,
   "metadata": {},
   "outputs": [
    {
     "name": "stdout",
     "output_type": "stream",
     "text": [
      "Ranking for checkpoint_4200 (dialect_understanding):\n",
      "               Model                              Prompt  Avg_Score\n",
      "431  checkpoint_4200             a bundook on the ground     0.9494\n",
      "423  checkpoint_4200                      a lively nagar     0.9451\n",
      "421  checkpoint_4200                 a dish with brinjal     0.9443\n",
      "434  checkpoint_4200                    pani in the well     0.9063\n",
      "430  checkpoint_4200                  a group of mo-bike     0.8971\n",
      "427  checkpoint_4200             a dark abandoned godown     0.8898\n",
      "414  checkpoint_4200                 a abandoned mandapa     0.8832\n",
      "435  checkpoint_4200               a yatra in the winter     0.8817\n",
      "419  checkpoint_4200                        a wet nullah     0.7913\n",
      "417  checkpoint_4200          an old abba in the kitchen     0.7685\n",
      "437  checkpoint_4200                  a tiffin at school     0.7504\n",
      "422  checkpoint_4200             a family enjoying khana     0.7404\n",
      "429  checkpoint_4200                 a dirty petrol bunk     0.6908\n",
      "412  checkpoint_4200                   an abandoned ghat     0.6866\n",
      "410  checkpoint_4200              a painting of a medico     0.6829\n",
      "433  checkpoint_4200  an incharge with a group of people     0.6494\n",
      "432  checkpoint_4200      a handicraftsman in a big city     0.5893\n",
      "425  checkpoint_4200                agarbatti on a shelf     0.5483\n",
      "420  checkpoint_4200                an old rani on a bed     0.4993\n",
      "411  checkpoint_4200                        broken chick     0.4829\n",
      "428  checkpoint_4200                a rural medical hall     0.4628\n",
      "436  checkpoint_4200                a naka in the winter     0.3377\n",
      "409  checkpoint_4200    a photograph of a dai with a cat     0.3110\n",
      "415  checkpoint_4200                       a nai working     0.2901\n",
      "439  checkpoint_4200                    an green almirah     0.2730\n",
      "418  checkpoint_4200                a painting of a pial     0.2720\n",
      "426  checkpoint_4200                a kulang eating food     0.2301\n",
      "407  checkpoint_4200             a math in a dark forest     0.1501\n",
      "416  checkpoint_4200      a photograph of a modern thana     0.1331\n",
      "408  checkpoint_4200            simkin on top of a piano     0.1058\n",
      "438  checkpoint_4200             a group of people satta     0.0679\n",
      "424  checkpoint_4200         an oont walking in the heat     0.0528\n",
      "413  checkpoint_4200              a painting of a kirana     0.0515\n"
     ]
    }
   ],
   "source": [
    "# Specify the checkpoint and evaluation type\n",
    "checkpoint = \"checkpoint_4200\"\n",
    "eval_type = \"dialect_understanding\"\n",
    "\n",
    "# Filter rows matching the parameters\n",
    "filtered_data = data[(data[\"Model\"] == checkpoint) & (data[\"Evaluation_Type\"] == eval_type)]\n",
    "\n",
    "# Rank the filtered rows by Avg_Score from highest to lowest\n",
    "sorted_data = filtered_data.sort_values(by=\"Avg_Score\", ascending=False)\n",
    "\n",
    "# Select the relevant columns, excluding 'Reference_Prompt'\n",
    "output_columns = [\"Model\", \"Prompt\", \"Avg_Score\"]\n",
    "sorted_data_output = sorted_data[output_columns]\n",
    "\n",
    "print(f\"Ranking for {checkpoint} ({eval_type}):\")\n",
    "print(sorted_data_output)\n"
   ]
  },
  {
   "cell_type": "code",
   "execution_count": 41,
   "metadata": {},
   "outputs": [
    {
     "name": "stdout",
     "output_type": "stream",
     "text": [
      "Performance differences between checkpoint_000 and checkpoint_4200 for SFT:\n",
      "                                Prompt  Avg_Score_1  Avg_Score_2  score_diff\n",
      "24             a bundook on the ground       0.0756       0.9494      0.8738\n",
      "23                  a group of mo-bike       0.4231       0.8971      0.4740\n",
      "4                         broken chick       0.1029       0.4829      0.3800\n",
      "30                  a tiffin at school       0.3991       0.7504      0.3513\n",
      "26  an incharge with a group of people       0.3459       0.6494      0.3035\n",
      "3               a painting of a medico       0.4261       0.6829      0.2568\n",
      "11                a painting of a pial       0.0998       0.2720      0.1722\n",
      "10          an old abba in the kitchen       0.6033       0.7685      0.1652\n",
      "19                a kulang eating food       0.0692       0.2301      0.1609\n",
      "9       a photograph of a modern thana       0.0464       0.1331      0.0867\n",
      "2     a photograph of a dai with a cat       0.2400       0.3110      0.0710\n",
      "1             simkin on top of a piano       0.0713       0.1058      0.0345\n",
      "8                        a nai working       0.2560       0.2901      0.0341\n",
      "28               a yatra in the winter       0.8496       0.8817      0.0321\n",
      "6               a painting of a kirana       0.0323       0.0515      0.0192\n",
      "14                 a dish with brinjal       0.9295       0.9443      0.0148\n",
      "21                a rural medical hall       0.4521       0.4628      0.0107\n",
      "17         an oont walking in the heat       0.0455       0.0528      0.0073\n",
      "16                      a lively nagar       0.9472       0.9451     -0.0021\n",
      "20             a dark abandoned godown       0.9102       0.8898     -0.0204\n",
      "7                  a abandoned mandapa       0.9225       0.8832     -0.0393\n",
      "27                    pani in the well       0.9599       0.9063     -0.0536\n",
      "29                a naka in the winter       0.3974       0.3377     -0.0597\n",
      "31             a group of people satta       0.1285       0.0679     -0.0606\n",
      "12                        a wet nullah       0.8661       0.7913     -0.0748\n",
      "5                    an abandoned ghat       0.7880       0.6866     -0.1014\n",
      "18                agarbatti on a shelf       0.6590       0.5483     -0.1107\n",
      "22                 a dirty petrol bunk       0.8057       0.6908     -0.1149\n",
      "13                an old rani on a bed       0.6435       0.4993     -0.1442\n",
      "15             a family enjoying khana       0.8975       0.7404     -0.1571\n",
      "0              a math in a dark forest       0.3150       0.1501     -0.1649\n",
      "25      a handicraftsman in a big city       0.8399       0.5893     -0.2506\n",
      "32                    an green almirah       0.7492       0.2730     -0.4762\n"
     ]
    }
   ],
   "source": [
    "# Specify the two checkpoints and the evaluation type\n",
    "checkpoint1 = \"checkpoint_000\"\n",
    "checkpoint2 = \"checkpoint_4200\"\n",
    "eval_type = \"dialect_understanding\"\n",
    "\n",
    "# Filter data for each checkpoint\n",
    "df1 = data[(data[\"Model\"] == checkpoint1) & (data[\"Evaluation_Type\"] == eval_type)]\n",
    "df2 = data[(data[\"Model\"] == checkpoint2) & (data[\"Evaluation_Type\"] == eval_type)]\n",
    "\n",
    "# Merge the two dataframes on the 'Prompt' column to compare common prompts\n",
    "merged = pd.merge(df1, df2, on=\"Prompt\", suffixes=('_1', '_2'))\n",
    "\n",
    "# Calculate the performance difference (e.g., checkpoint2 score minus checkpoint1 score)\n",
    "merged[\"score_diff\"] = merged[\"Avg_Score_2\"] - merged[\"Avg_Score_1\"]\n",
    "\n",
    "# Rank the prompts from most improvement to least (including negative differences)\n",
    "ranked_prompts = merged.sort_values(by=\"score_diff\", ascending=False)\n",
    "\n",
    "print(f\"Performance differences between {checkpoint1} and {checkpoint2} for SFT:\")\n",
    "print(ranked_prompts[[\"Prompt\", \"Avg_Score_1\", \"Avg_Score_2\", \"score_diff\"]])\n"
   ]
  },
  {
   "cell_type": "markdown",
   "metadata": {},
   "source": [
    "# DPO"
   ]
  },
  {
   "cell_type": "code",
   "execution_count": 42,
   "metadata": {},
   "outputs": [
    {
     "name": "stdout",
     "output_type": "stream",
     "text": [
      "Data loaded successfully. Shape: (444, 5)\n"
     ]
    }
   ],
   "source": [
    "import pandas as pd\n",
    "import numpy as np\n",
    "\n",
    "# Hyperparameters (if any) can be defined here\n",
    "csv_path = \"/local1/bryanzhou008/Dialect/multimodal-dialectal-bias/mitigation/baselines/diffusion_dpo/a_outputs/ine-dpo-basic-4-1-1-9/evaluation_results.csv\"\n",
    "\n",
    "# Load the CSV file. Extra columns (if present) will appear as unnamed columns.\n",
    "data = pd.read_csv(csv_path, engine='python')\n",
    "print(\"Data loaded successfully. Shape:\", data.shape)\n"
   ]
  },
  {
   "cell_type": "code",
   "execution_count": 43,
   "metadata": {},
   "outputs": [
    {
     "name": "stdout",
     "output_type": "stream",
     "text": [
      "Ranking for checkpoint_000 (dialect_understanding):\n",
      "             Model                              Prompt  Avg_Score\n",
      "27  checkpoint_000                    pani in the well     0.9599\n",
      "16  checkpoint_000                      a lively nagar     0.9472\n",
      "14  checkpoint_000                 a dish with brinjal     0.9295\n",
      "7   checkpoint_000                 a abandoned mandapa     0.9225\n",
      "20  checkpoint_000             a dark abandoned godown     0.9102\n",
      "15  checkpoint_000             a family enjoying khana     0.8975\n",
      "12  checkpoint_000                        a wet nullah     0.8661\n",
      "28  checkpoint_000               a yatra in the winter     0.8496\n",
      "25  checkpoint_000      a handicraftsman in a big city     0.8399\n",
      "22  checkpoint_000                 a dirty petrol bunk     0.8057\n",
      "5   checkpoint_000                   an abandoned ghat     0.7880\n",
      "32  checkpoint_000                    an green almirah     0.7492\n",
      "18  checkpoint_000                agarbatti on a shelf     0.6590\n",
      "13  checkpoint_000                an old rani on a bed     0.6435\n",
      "10  checkpoint_000          an old abba in the kitchen     0.6033\n",
      "21  checkpoint_000                a rural medical hall     0.4521\n",
      "3   checkpoint_000              a painting of a medico     0.4261\n",
      "23  checkpoint_000                  a group of mo-bike     0.4231\n",
      "30  checkpoint_000                  a tiffin at school     0.3991\n",
      "29  checkpoint_000                a naka in the winter     0.3974\n",
      "26  checkpoint_000  an incharge with a group of people     0.3459\n",
      "0   checkpoint_000             a math in a dark forest     0.3150\n",
      "8   checkpoint_000                       a nai working     0.2560\n",
      "2   checkpoint_000    a photograph of a dai with a cat     0.2400\n",
      "31  checkpoint_000             a group of people satta     0.1285\n",
      "4   checkpoint_000                        broken chick     0.1029\n",
      "11  checkpoint_000                a painting of a pial     0.0998\n",
      "24  checkpoint_000             a bundook on the ground     0.0756\n",
      "1   checkpoint_000            simkin on top of a piano     0.0713\n",
      "19  checkpoint_000                a kulang eating food     0.0692\n",
      "9   checkpoint_000      a photograph of a modern thana     0.0464\n",
      "17  checkpoint_000         an oont walking in the heat     0.0455\n",
      "6   checkpoint_000              a painting of a kirana     0.0323\n"
     ]
    }
   ],
   "source": [
    "# Specify the checkpoint and evaluation type\n",
    "checkpoint = \"checkpoint_000\"\n",
    "eval_type = \"dialect_understanding\"\n",
    "\n",
    "# Filter rows matching the parameters\n",
    "filtered_data = data[(data[\"Model\"] == checkpoint) & (data[\"Evaluation_Type\"] == eval_type)]\n",
    "\n",
    "# Rank the filtered rows by Avg_Score from highest to lowest\n",
    "sorted_data = filtered_data.sort_values(by=\"Avg_Score\", ascending=False)\n",
    "\n",
    "# Select the relevant columns, excluding 'Reference_Prompt'\n",
    "output_columns = [\"Model\", \"Prompt\", \"Avg_Score\"]\n",
    "sorted_data_output = sorted_data[output_columns]\n",
    "\n",
    "print(f\"Ranking for {checkpoint} ({eval_type}):\")\n",
    "print(sorted_data_output)\n"
   ]
  },
  {
   "cell_type": "code",
   "execution_count": 44,
   "metadata": {},
   "outputs": [
    {
     "name": "stdout",
     "output_type": "stream",
     "text": [
      "Ranking for checkpoint_4200 (dialect_understanding):\n",
      "               Model                              Prompt  Avg_Score\n",
      "422  checkpoint_4200             a family enjoying khana     0.9805\n",
      "423  checkpoint_4200                      a lively nagar     0.9646\n",
      "421  checkpoint_4200                 a dish with brinjal     0.9437\n",
      "427  checkpoint_4200             a dark abandoned godown     0.9377\n",
      "414  checkpoint_4200                 a abandoned mandapa     0.9348\n",
      "434  checkpoint_4200                    pani in the well     0.9081\n",
      "419  checkpoint_4200                        a wet nullah     0.9005\n",
      "435  checkpoint_4200               a yatra in the winter     0.8833\n",
      "417  checkpoint_4200          an old abba in the kitchen     0.8737\n",
      "432  checkpoint_4200      a handicraftsman in a big city     0.8314\n",
      "412  checkpoint_4200                   an abandoned ghat     0.7914\n",
      "428  checkpoint_4200                a rural medical hall     0.6364\n",
      "410  checkpoint_4200              a painting of a medico     0.6276\n",
      "420  checkpoint_4200                an old rani on a bed     0.6215\n",
      "429  checkpoint_4200                 a dirty petrol bunk     0.5875\n",
      "439  checkpoint_4200                    an green almirah     0.4997\n",
      "437  checkpoint_4200                  a tiffin at school     0.4926\n",
      "415  checkpoint_4200                       a nai working     0.4894\n",
      "411  checkpoint_4200                        broken chick     0.4702\n",
      "425  checkpoint_4200                agarbatti on a shelf     0.4700\n",
      "418  checkpoint_4200                a painting of a pial     0.3335\n",
      "407  checkpoint_4200             a math in a dark forest     0.3306\n",
      "436  checkpoint_4200                a naka in the winter     0.3261\n",
      "433  checkpoint_4200  an incharge with a group of people     0.2706\n",
      "409  checkpoint_4200    a photograph of a dai with a cat     0.2650\n",
      "430  checkpoint_4200                  a group of mo-bike     0.2569\n",
      "438  checkpoint_4200             a group of people satta     0.1752\n",
      "431  checkpoint_4200             a bundook on the ground     0.1622\n",
      "408  checkpoint_4200            simkin on top of a piano     0.1261\n",
      "413  checkpoint_4200              a painting of a kirana     0.0898\n",
      "426  checkpoint_4200                a kulang eating food     0.0864\n",
      "416  checkpoint_4200      a photograph of a modern thana     0.0615\n",
      "424  checkpoint_4200         an oont walking in the heat     0.0412\n"
     ]
    }
   ],
   "source": [
    "# Specify the checkpoint and evaluation type\n",
    "checkpoint = \"checkpoint_4200\"\n",
    "eval_type = \"dialect_understanding\"\n",
    "\n",
    "# Filter rows matching the parameters\n",
    "filtered_data = data[(data[\"Model\"] == checkpoint) & (data[\"Evaluation_Type\"] == eval_type)]\n",
    "\n",
    "# Rank the filtered rows by Avg_Score from highest to lowest\n",
    "sorted_data = filtered_data.sort_values(by=\"Avg_Score\", ascending=False)\n",
    "\n",
    "# Select the relevant columns, excluding 'Reference_Prompt'\n",
    "output_columns = [\"Model\", \"Prompt\", \"Avg_Score\"]\n",
    "sorted_data_output = sorted_data[output_columns]\n",
    "\n",
    "print(f\"Ranking for {checkpoint} ({eval_type}):\")\n",
    "print(sorted_data_output)\n"
   ]
  },
  {
   "cell_type": "code",
   "execution_count": 46,
   "metadata": {},
   "outputs": [
    {
     "name": "stdout",
     "output_type": "stream",
     "text": [
      "Performance differences between checkpoint_4200 and checkpoint_000 for DPO:\n",
      "                                Prompt  Avg_Score_1  Avg_Score_2  score_diff\n",
      "4                         broken chick       0.1029       0.4702      0.3673\n",
      "10          an old abba in the kitchen       0.6033       0.8737      0.2704\n",
      "11                a painting of a pial       0.0998       0.3335      0.2337\n",
      "8                        a nai working       0.2560       0.4894      0.2334\n",
      "3               a painting of a medico       0.4261       0.6276      0.2015\n",
      "21                a rural medical hall       0.4521       0.6364      0.1843\n",
      "30                  a tiffin at school       0.3991       0.4926      0.0935\n",
      "24             a bundook on the ground       0.0756       0.1622      0.0866\n",
      "15             a family enjoying khana       0.8975       0.9805      0.0830\n",
      "6               a painting of a kirana       0.0323       0.0898      0.0575\n",
      "1             simkin on top of a piano       0.0713       0.1261      0.0548\n",
      "31             a group of people satta       0.1285       0.1752      0.0467\n",
      "12                        a wet nullah       0.8661       0.9005      0.0344\n",
      "28               a yatra in the winter       0.8496       0.8833      0.0337\n",
      "20             a dark abandoned godown       0.9102       0.9377      0.0275\n",
      "2     a photograph of a dai with a cat       0.2400       0.2650      0.0250\n",
      "16                      a lively nagar       0.9472       0.9646      0.0174\n",
      "19                a kulang eating food       0.0692       0.0864      0.0172\n",
      "0              a math in a dark forest       0.3150       0.3306      0.0156\n",
      "9       a photograph of a modern thana       0.0464       0.0615      0.0151\n",
      "14                 a dish with brinjal       0.9295       0.9437      0.0142\n",
      "7                  a abandoned mandapa       0.9225       0.9348      0.0123\n",
      "5                    an abandoned ghat       0.7880       0.7914      0.0034\n",
      "17         an oont walking in the heat       0.0455       0.0412     -0.0043\n",
      "25      a handicraftsman in a big city       0.8399       0.8314     -0.0085\n",
      "13                an old rani on a bed       0.6435       0.6215     -0.0220\n",
      "27                    pani in the well       0.9599       0.9081     -0.0518\n",
      "29                a naka in the winter       0.3974       0.3261     -0.0713\n",
      "26  an incharge with a group of people       0.3459       0.2706     -0.0753\n",
      "23                  a group of mo-bike       0.4231       0.2569     -0.1662\n",
      "18                agarbatti on a shelf       0.6590       0.4700     -0.1890\n",
      "22                 a dirty petrol bunk       0.8057       0.5875     -0.2182\n",
      "32                    an green almirah       0.7492       0.4997     -0.2495\n"
     ]
    }
   ],
   "source": [
    "# Specify the two checkpoints and the evaluation type\n",
    "checkpoint1 = \"checkpoint_000\"\n",
    "checkpoint2 = \"checkpoint_4200\"\n",
    "eval_type = \"dialect_understanding\"\n",
    "\n",
    "# Filter data for each checkpoint\n",
    "df1 = data[(data[\"Model\"] == checkpoint1) & (data[\"Evaluation_Type\"] == eval_type)]\n",
    "df2 = data[(data[\"Model\"] == checkpoint2) & (data[\"Evaluation_Type\"] == eval_type)]\n",
    "\n",
    "# Merge the two dataframes on the 'Prompt' column to compare common prompts\n",
    "merged = pd.merge(df1, df2, on=\"Prompt\", suffixes=('_1', '_2'))\n",
    "\n",
    "# Calculate the performance difference (e.g., checkpoint2 score minus checkpoint1 score)\n",
    "merged[\"score_diff\"] = merged[\"Avg_Score_2\"] - merged[\"Avg_Score_1\"]\n",
    "\n",
    "# Rank the prompts from most improvement to least (including negative differences)\n",
    "ranked_prompts = merged.sort_values(by=\"score_diff\", ascending=False)\n",
    "\n",
    "print(f\"Performance differences between {checkpoint2} and {checkpoint1} for DPO:\")\n",
    "print(ranked_prompts[[\"Prompt\", \"Avg_Score_1\", \"Avg_Score_2\", \"score_diff\"]])\n"
   ]
  }
 ],
 "metadata": {
  "kernelspec": {
   "display_name": "dpo",
   "language": "python",
   "name": "python3"
  },
  "language_info": {
   "codemirror_mode": {
    "name": "ipython",
    "version": 3
   },
   "file_extension": ".py",
   "mimetype": "text/x-python",
   "name": "python",
   "nbconvert_exporter": "python",
   "pygments_lexer": "ipython3",
   "version": "3.10.16"
  }
 },
 "nbformat": 4,
 "nbformat_minor": 2
}
