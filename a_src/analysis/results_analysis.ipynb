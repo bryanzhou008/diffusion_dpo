{
 "cells": [
  {
   "cell_type": "code",
   "execution_count": 4,
   "metadata": {},
   "outputs": [
    {
     "name": "stdout",
     "output_type": "stream",
     "text": [
      "Data loaded successfully. Shape: (231, 5)\n"
     ]
    }
   ],
   "source": [
    "import pandas as pd\n",
    "import numpy as np\n",
    "\n",
    "# Hyperparameters (if any) can be defined here\n",
    "csv_path = \"/local1/bryanzhou008/Dialect/multimodal-dialectal-bias/mitigation/baselines/diffusion_dpo/a_outputs/ine-dpo-basic-4-1-1-9/evaluation_results.csv\"\n",
    "\n",
    "# Load the CSV file. Extra columns (if present) will appear as unnamed columns.\n",
    "data = pd.read_csv(csv_path, engine='python')\n",
    "print(\"Data loaded successfully. Shape:\", data.shape)\n"
   ]
  },
  {
   "cell_type": "code",
   "execution_count": 7,
   "metadata": {},
   "outputs": [
    {
     "name": "stdout",
     "output_type": "stream",
     "text": [
      "Ranking for checkpoint_200 (dialect_understanding):\n",
      "             Model                              Prompt  Avg_Score\n",
      "48  checkpoint_200             a family enjoying khana     0.9838\n",
      "49  checkpoint_200                      a lively nagar     0.9643\n",
      "40  checkpoint_200                 a abandoned mandapa     0.9473\n",
      "60  checkpoint_200                    pani in the well     0.9277\n",
      "47  checkpoint_200                 a dish with brinjal     0.8924\n",
      "53  checkpoint_200             a dark abandoned godown     0.8829\n",
      "45  checkpoint_200                        a wet nullah     0.8811\n",
      "61  checkpoint_200               a yatra in the winter     0.8539\n",
      "46  checkpoint_200                an old rani on a bed     0.7651\n",
      "58  checkpoint_200      a handicraftsman in a big city     0.7418\n",
      "65  checkpoint_200                    an green almirah     0.7410\n",
      "55  checkpoint_200                 a dirty petrol bunk     0.7312\n",
      "43  checkpoint_200          an old abba in the kitchen     0.6893\n",
      "38  checkpoint_200                   an abandoned ghat     0.6690\n",
      "36  checkpoint_200              a painting of a medico     0.6119\n",
      "51  checkpoint_200                agarbatti on a shelf     0.5302\n",
      "63  checkpoint_200                  a tiffin at school     0.5114\n",
      "54  checkpoint_200                a rural medical hall     0.4875\n",
      "59  checkpoint_200  an incharge with a group of people     0.3678\n",
      "56  checkpoint_200                  a group of mo-bike     0.3604\n",
      "62  checkpoint_200                a naka in the winter     0.3492\n",
      "33  checkpoint_200             a math in a dark forest     0.2907\n",
      "41  checkpoint_200                       a nai working     0.2036\n",
      "35  checkpoint_200    a photograph of a dai with a cat     0.2021\n",
      "37  checkpoint_200                        broken chick     0.1713\n",
      "44  checkpoint_200                a painting of a pial     0.1560\n",
      "52  checkpoint_200                a kulang eating food     0.1169\n",
      "57  checkpoint_200             a bundook on the ground     0.1005\n",
      "42  checkpoint_200      a photograph of a modern thana     0.0859\n",
      "64  checkpoint_200             a group of people satta     0.0856\n",
      "34  checkpoint_200            simkin on top of a piano     0.0772\n",
      "39  checkpoint_200              a painting of a kirana     0.0512\n",
      "50  checkpoint_200         an oont walking in the heat     0.0435\n"
     ]
    }
   ],
   "source": [
    "# Specify the checkpoint and evaluation type\n",
    "checkpoint = \"checkpoint_200\"\n",
    "eval_type = \"dialect_understanding\"\n",
    "\n",
    "# Filter rows matching the parameters\n",
    "filtered_data = data[(data[\"Model\"] == checkpoint) & (data[\"Evaluation_Type\"] == eval_type)]\n",
    "\n",
    "# Rank the filtered rows by Avg_Score from highest to lowest\n",
    "sorted_data = filtered_data.sort_values(by=\"Avg_Score\", ascending=False)\n",
    "\n",
    "# Select the relevant columns, excluding 'Reference_Prompt'\n",
    "output_columns = [\"Model\", \"Prompt\", \"Avg_Score\"]\n",
    "sorted_data_output = sorted_data[output_columns]\n",
    "\n",
    "print(f\"Ranking for {checkpoint} ({eval_type}):\")\n",
    "print(sorted_data_output)\n"
   ]
  },
  {
   "cell_type": "code",
   "execution_count": 10,
   "metadata": {},
   "outputs": [
    {
     "name": "stdout",
     "output_type": "stream",
     "text": [
      "Performance differences between checkpoint_2200 and checkpoint_000 for dialect_understanding:\n",
      "                                Prompt  Avg_Score_1  Avg_Score_2  score_diff\n",
      "23                  a group of mo-bike       0.4084       0.9694      0.5610\n",
      "31             a group of people satta       0.1384       0.5961      0.4577\n",
      "11                a painting of a pial       0.0935       0.4808      0.3873\n",
      "3               a painting of a medico       0.4726       0.8089      0.3363\n",
      "4                         broken chick       0.1079       0.2787      0.1708\n",
      "1             simkin on top of a piano       0.0720       0.2283      0.1563\n",
      "9       a photograph of a modern thana       0.0543       0.2017      0.1474\n",
      "30                  a tiffin at school       0.4035       0.5473      0.1438\n",
      "8                        a nai working       0.1379       0.2634      0.1255\n",
      "26  an incharge with a group of people       0.3250       0.4029      0.0779\n",
      "15             a family enjoying khana       0.9199       0.9876      0.0677\n",
      "19                a kulang eating food       0.0715       0.1120      0.0405\n",
      "13                an old rani on a bed       0.6679       0.7055      0.0376\n",
      "7                  a abandoned mandapa       0.9283       0.9523      0.0240\n",
      "12                        a wet nullah       0.8676       0.8872      0.0196\n",
      "6               a painting of a kirana       0.0336       0.0517      0.0181\n",
      "10          an old abba in the kitchen       0.5787       0.5965      0.0178\n",
      "17         an oont walking in the heat       0.0443       0.0468      0.0025\n",
      "25      a handicraftsman in a big city       0.8417       0.8343     -0.0074\n",
      "22                 a dirty petrol bunk       0.8074       0.7975     -0.0099\n",
      "20             a dark abandoned godown       0.9143       0.8992     -0.0151\n",
      "5                    an abandoned ghat       0.7840       0.7610     -0.0230\n",
      "16                      a lively nagar       0.9523       0.8899     -0.0624\n",
      "14                 a dish with brinjal       0.9319       0.8693     -0.0626\n",
      "24             a bundook on the ground       0.1444       0.0781     -0.0663\n",
      "27                    pani in the well       0.9598       0.8707     -0.0891\n",
      "32                    an green almirah       0.7458       0.6551     -0.0907\n",
      "2     a photograph of a dai with a cat       0.2594       0.1357     -0.1237\n",
      "29                a naka in the winter       0.4038       0.2552     -0.1486\n",
      "0              a math in a dark forest       0.3183       0.1684     -0.1499\n",
      "18                agarbatti on a shelf       0.6326       0.4729     -0.1597\n",
      "21                a rural medical hall       0.4641       0.3042     -0.1599\n",
      "28               a yatra in the winter       0.8568       0.4788     -0.3780\n"
     ]
    }
   ],
   "source": [
    "# Specify the two checkpoints and the evaluation type\n",
    "checkpoint1 = \"checkpoint_000\"\n",
    "checkpoint2 = \"checkpoint_2200\"\n",
    "eval_type = \"dialect_understanding\"\n",
    "\n",
    "# Filter data for each checkpoint\n",
    "df1 = data[(data[\"Model\"] == checkpoint1) & (data[\"Evaluation_Type\"] == eval_type)]\n",
    "df2 = data[(data[\"Model\"] == checkpoint2) & (data[\"Evaluation_Type\"] == eval_type)]\n",
    "\n",
    "# Merge the two dataframes on the 'Prompt' column to compare common prompts\n",
    "merged = pd.merge(df1, df2, on=\"Prompt\", suffixes=('_1', '_2'))\n",
    "\n",
    "# Calculate the performance difference (e.g., checkpoint2 score minus checkpoint1 score)\n",
    "merged[\"score_diff\"] = merged[\"Avg_Score_2\"] - merged[\"Avg_Score_1\"]\n",
    "\n",
    "# Rank the prompts from most improvement to least (including negative differences)\n",
    "ranked_prompts = merged.sort_values(by=\"score_diff\", ascending=False)\n",
    "\n",
    "print(f\"Performance differences between {checkpoint2} and {checkpoint1} for {eval_type}:\")\n",
    "print(ranked_prompts[[\"Prompt\", \"Avg_Score_1\", \"Avg_Score_2\", \"score_diff\"]])\n"
   ]
  }
 ],
 "metadata": {
  "kernelspec": {
   "display_name": "dpo",
   "language": "python",
   "name": "python3"
  },
  "language_info": {
   "codemirror_mode": {
    "name": "ipython",
    "version": 3
   },
   "file_extension": ".py",
   "mimetype": "text/x-python",
   "name": "python",
   "nbconvert_exporter": "python",
   "pygments_lexer": "ipython3",
   "version": "undefined.undefined.undefined"
  }
 },
 "nbformat": 4,
 "nbformat_minor": 2
}
