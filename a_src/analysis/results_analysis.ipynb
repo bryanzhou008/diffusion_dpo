{
 "cells": [
  {
   "cell_type": "code",
   "execution_count": 3,
   "metadata": {},
   "outputs": [
    {
     "name": "stdout",
     "output_type": "stream",
     "text": [
      "Data loaded successfully. Shape: (198, 5)\n"
     ]
    }
   ],
   "source": [
    "import pandas as pd\n",
    "import numpy as np\n",
    "\n",
    "# Hyperparameters (if any) can be defined here\n",
    "csv_path = \"/local1/bryanzhou008/Dialect/multimodal-dialectal-bias/mitigation/baselines/diffusion_dpo/a_outputs/ine-dpo-basic-4-1-1-9/evaluation_results.csv\"\n",
    "\n",
    "# Load the CSV file. Extra columns (if present) will appear as unnamed columns.\n",
    "data = pd.read_csv(csv_path, engine='python')\n",
    "print(\"Data loaded successfully. Shape:\", data.shape)\n"
   ]
  },
  {
   "cell_type": "code",
   "execution_count": 8,
   "metadata": {},
   "outputs": [
    {
     "name": "stdout",
     "output_type": "stream",
     "text": [
      "Ranking for checkpoint_200 (dialect_understanding):\n",
      "             Model                              Prompt  Avg_Score\n",
      "15  checkpoint_200             a family enjoying khana     0.9838\n",
      "16  checkpoint_200                      a lively nagar     0.9643\n",
      "7   checkpoint_200                 a abandoned mandapa     0.9473\n",
      "27  checkpoint_200                    pani in the well     0.9277\n",
      "14  checkpoint_200                 a dish with brinjal     0.8924\n",
      "20  checkpoint_200             a dark abandoned godown     0.8829\n",
      "12  checkpoint_200                        a wet nullah     0.8811\n",
      "28  checkpoint_200               a yatra in the winter     0.8539\n",
      "13  checkpoint_200                an old rani on a bed     0.7651\n",
      "25  checkpoint_200      a handicraftsman in a big city     0.7418\n",
      "32  checkpoint_200                    an green almirah     0.7410\n",
      "22  checkpoint_200                 a dirty petrol bunk     0.7312\n",
      "10  checkpoint_200          an old abba in the kitchen     0.6893\n",
      "5   checkpoint_200                   an abandoned ghat     0.6690\n",
      "3   checkpoint_200              a painting of a medico     0.6119\n",
      "18  checkpoint_200                agarbatti on a shelf     0.5302\n",
      "30  checkpoint_200                  a tiffin at school     0.5114\n",
      "21  checkpoint_200                a rural medical hall     0.4875\n",
      "26  checkpoint_200  an incharge with a group of people     0.3678\n",
      "23  checkpoint_200                  a group of mo-bike     0.3604\n",
      "29  checkpoint_200                a naka in the winter     0.3492\n",
      "0   checkpoint_200             a math in a dark forest     0.2907\n",
      "8   checkpoint_200                       a nai working     0.2036\n",
      "2   checkpoint_200    a photograph of a dai with a cat     0.2021\n",
      "4   checkpoint_200                        broken chick     0.1713\n",
      "11  checkpoint_200                a painting of a pial     0.1560\n",
      "19  checkpoint_200                a kulang eating food     0.1169\n",
      "24  checkpoint_200             a bundook on the ground     0.1005\n",
      "9   checkpoint_200      a photograph of a modern thana     0.0859\n",
      "31  checkpoint_200             a group of people satta     0.0856\n",
      "1   checkpoint_200            simkin on top of a piano     0.0772\n",
      "6   checkpoint_200              a painting of a kirana     0.0512\n",
      "17  checkpoint_200         an oont walking in the heat     0.0435\n"
     ]
    }
   ],
   "source": [
    "# Specify the checkpoint and evaluation type\n",
    "checkpoint = \"checkpoint_200\"\n",
    "eval_type = \"dialect_understanding\"\n",
    "\n",
    "# Filter rows matching the parameters\n",
    "filtered_data = data[(data[\"Model\"] == checkpoint) & (data[\"Evaluation_Type\"] == eval_type)]\n",
    "\n",
    "# Rank the filtered rows by Avg_Score from highest to lowest\n",
    "sorted_data = filtered_data.sort_values(by=\"Avg_Score\", ascending=False)\n",
    "\n",
    "# Select the relevant columns, excluding 'Reference_Prompt'\n",
    "output_columns = [\"Model\", \"Prompt\", \"Avg_Score\"]\n",
    "sorted_data_output = sorted_data[output_columns]\n",
    "\n",
    "print(f\"Ranking for {checkpoint} ({eval_type}):\")\n",
    "print(sorted_data_output)\n"
   ]
  },
  {
   "cell_type": "code",
   "execution_count": 6,
   "metadata": {},
   "outputs": [
    {
     "name": "stdout",
     "output_type": "stream",
     "text": [
      "Performance differences between checkpoint_2200 and checkpoint_200 for dialect_understanding:\n",
      "                                Prompt  Avg_Score_1  Avg_Score_2  score_diff\n",
      "23                  a group of mo-bike       0.3604       0.9694      0.6090\n",
      "31             a group of people satta       0.0856       0.5961      0.5105\n",
      "11                a painting of a pial       0.1560       0.4808      0.3248\n",
      "3               a painting of a medico       0.6119       0.8089      0.1970\n",
      "1             simkin on top of a piano       0.0772       0.2283      0.1511\n",
      "9       a photograph of a modern thana       0.0859       0.2017      0.1158\n",
      "4                         broken chick       0.1713       0.2787      0.1074\n",
      "25      a handicraftsman in a big city       0.7418       0.8343      0.0925\n",
      "5                    an abandoned ghat       0.6690       0.7610      0.0920\n",
      "22                 a dirty petrol bunk       0.7312       0.7975      0.0663\n",
      "8                        a nai working       0.2036       0.2634      0.0598\n",
      "30                  a tiffin at school       0.5114       0.5473      0.0359\n",
      "26  an incharge with a group of people       0.3678       0.4029      0.0351\n",
      "20             a dark abandoned godown       0.8829       0.8992      0.0163\n",
      "12                        a wet nullah       0.8811       0.8872      0.0061\n",
      "7                  a abandoned mandapa       0.9473       0.9523      0.0050\n",
      "15             a family enjoying khana       0.9838       0.9876      0.0038\n",
      "17         an oont walking in the heat       0.0435       0.0468      0.0033\n",
      "6               a painting of a kirana       0.0512       0.0517      0.0005\n",
      "19                a kulang eating food       0.1169       0.1120     -0.0049\n",
      "24             a bundook on the ground       0.1005       0.0781     -0.0224\n",
      "14                 a dish with brinjal       0.8924       0.8693     -0.0231\n",
      "27                    pani in the well       0.9277       0.8707     -0.0570\n",
      "18                agarbatti on a shelf       0.5302       0.4729     -0.0573\n",
      "13                an old rani on a bed       0.7651       0.7055     -0.0596\n",
      "2     a photograph of a dai with a cat       0.2021       0.1357     -0.0664\n",
      "16                      a lively nagar       0.9643       0.8899     -0.0744\n",
      "32                    an green almirah       0.7410       0.6551     -0.0859\n",
      "10          an old abba in the kitchen       0.6893       0.5965     -0.0928\n",
      "29                a naka in the winter       0.3492       0.2552     -0.0940\n",
      "0              a math in a dark forest       0.2907       0.1684     -0.1223\n",
      "21                a rural medical hall       0.4875       0.3042     -0.1833\n",
      "28               a yatra in the winter       0.8539       0.4788     -0.3751\n"
     ]
    }
   ],
   "source": [
    "# Specify the two checkpoints and the evaluation type\n",
    "checkpoint1 = \"checkpoint_200\"\n",
    "checkpoint2 = \"checkpoint_2200\"\n",
    "eval_type = \"dialect_understanding\"\n",
    "\n",
    "# Filter data for each checkpoint\n",
    "df1 = data[(data[\"Model\"] == checkpoint1) & (data[\"Evaluation_Type\"] == eval_type)]\n",
    "df2 = data[(data[\"Model\"] == checkpoint2) & (data[\"Evaluation_Type\"] == eval_type)]\n",
    "\n",
    "# Merge the two dataframes on the 'Prompt' column to compare common prompts\n",
    "merged = pd.merge(df1, df2, on=\"Prompt\", suffixes=('_1', '_2'))\n",
    "\n",
    "# Calculate the performance difference (e.g., checkpoint2 score minus checkpoint1 score)\n",
    "merged[\"score_diff\"] = merged[\"Avg_Score_2\"] - merged[\"Avg_Score_1\"]\n",
    "\n",
    "# Rank the prompts from most improvement to least (including negative differences)\n",
    "ranked_prompts = merged.sort_values(by=\"score_diff\", ascending=False)\n",
    "\n",
    "print(f\"Performance differences between {checkpoint2} and {checkpoint1} for {eval_type}:\")\n",
    "print(ranked_prompts[[\"Prompt\", \"Avg_Score_1\", \"Avg_Score_2\", \"score_diff\"]])\n"
   ]
  }
 ],
 "metadata": {
  "kernelspec": {
   "display_name": "dpo",
   "language": "python",
   "name": "python3"
  },
  "language_info": {
   "codemirror_mode": {
    "name": "ipython",
    "version": 3
   },
   "file_extension": ".py",
   "mimetype": "text/x-python",
   "name": "python",
   "nbconvert_exporter": "python",
   "pygments_lexer": "ipython3",
   "version": "3.10.16"
  }
 },
 "nbformat": 4,
 "nbformat_minor": 2
}
